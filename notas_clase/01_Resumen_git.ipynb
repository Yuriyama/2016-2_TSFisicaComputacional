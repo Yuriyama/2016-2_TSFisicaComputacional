{
 "cells": [
  {
   "cell_type": "markdown",
   "metadata": {},
   "source": [
    "# Acordeón de `git` (cheat sheat)"
   ]
  },
  {
   "cell_type": "markdown",
   "metadata": {},
   "source": [
    "## Comandos útiles de `git`"
   ]
  },
  {
   "cell_type": "markdown",
   "metadata": {},
   "source": [
    "- `git init` inicializa un repositorio en el directorio local. Típicamente, sólo se utiliza una vez."
   ]
  },
  {
   "cell_type": "markdown",
   "metadata": {},
   "source": [
    "- `git config --list` lista los parámetros de `git`, globales (del sistema) y particulares (del repositorio). Los parámetros concretos pueden ser definidos usando:\n",
    "```\n",
    "> git config --global user.name \"Fulanito de Tal\"    # Nombre del *desarrollador*\n",
    "> git config --global user.email \"fulanito@algun.lugar\" # email\n",
    "> git config --global github.user \"FulanitoDeTal\"    # usuario en GitHub\n",
    "> git config --global color.ui \"auto\"   # para que `git status` salga en colores\n",
    "```"
   ]
  },
  {
   "cell_type": "markdown",
   "metadata": {},
   "source": [
    "- `git status` da información sobre el *estado* del repositorio *local*. Esto incluye una lista de los archivos modificados y listos para ser incluidos en un commit (*staged*, ver abajo), los archivos que están presentes en el repositorio pero que no se siguen los cambios, el branch, etc."
   ]
  },
  {
   "cell_type": "markdown",
   "metadata": {},
   "source": [
    "**NOTA**: El archivo \".gitignore\" (en el directorio raíz del proyecto) tiene información de cosas que **no** se quieren desplegar con `git status`"
   ]
  },
  {
   "cell_type": "markdown",
   "metadata": {},
   "source": [
    "El flujo típico de trabajo incluye los comandos:"
   ]
  },
  {
   "cell_type": "markdown",
   "metadata": {},
   "source": [
    "- `git add <file1> <file2>...` incluye a los archivos `<file1>`, `<file2>`, ..., en la lista de archivos que van a ser seguidos (*staged* en inglés) en el repositorio, es decir, que serán verificados si hay o no modificaciones. Se puede ejecutar este comando varias veces, por ejemplo, al hacer modificaciones sucesivas en un mismo archivo."
   ]
  },
  {
   "cell_type": "markdown",
   "metadata": {},
   "source": [
    "- `git commit` sirve para guardar el estado del repositorio en ese instante; los cambios que se guardan deben ser seguidos (*staged*) antes. Este comando abre (en un editor) el archivo donde se documenta lo que se ha implementado en ese commit. Por convención, se escribe en una línea los cambios (como un título), y después éstos pueden ser descritos en detalle; en ese archivo, las líneas que empiezan con \"#\" son comentarios. Otras opciones relacionadas son:\n",
    "```\n",
    "> git commit -m \"mensaje de una línea\" # sólo guarda el título\n",
    "> git commit --amend  # corrige el último commit, en el contenido y documentación\n",
    "> git commit -a -m \"mensaje\" # git add <file> + git commit -m \"mensaje\"\n",
    "```"
   ]
  },
  {
   "cell_type": "markdown",
   "metadata": {},
   "source": [
    "- `git log` muestra la información *in extenso* sobre el registro de commits (autor, email, fecha y detalles del commit), es decir, es la bitácora del desarrollo tal cual. Variaciones en el despliegue de la información incluyen:\n",
    "```\n",
    "> git log --oneline           # resumen del commit (abreviado)\n",
    "> git log --oneline --graph   # representación gráfica del historial\n",
    "```"
   ]
  },
  {
   "cell_type": "markdown",
   "metadata": {},
   "source": [
    "- `git push origin master` sirve para subir y sincronizar los cambios locales (la rama actual) hechos a un repositorio en la nube (por ejemplo, en GitHub) y donde uno *tiene* permiso para escribir (se es *contribuidor*). Los cambios se sincronizan con el *repositorio remoto* \"origin\" en su rama \"master\" (ver abajo para detalles sobre los repositorios remotos). Si sólo hay un repositorio remoto y una rama, `git pull` es suficiente."
   ]
  },
  {
   "cell_type": "markdown",
   "metadata": {},
   "source": [
    "Para interactuar con repositorios remotos se utilizan los siguientes comandos:"
   ]
  },
  {
   "cell_type": "markdown",
   "metadata": {},
   "source": [
    "- `git remote add fork https:github.com/usuario/proyecto` *configura* la abreviación *local* \"fork\" para el repositorio *remoto* \"https:github.com/usuario/proyecto\". Uno puede cambiarle el nombre a la abreviación (`git remote rename ...`), cambiar el URL al que se apunto (`git remote set-url ...`, borrar la abreviación (`git remote remove ...`), y otras cosas más.\n",
    "\n",
    "\n",
    "- `git remote -v` da información sobre los repositorios remotos que se han configurado."
   ]
  },
  {
   "cell_type": "markdown",
   "metadata": {},
   "source": [
    "- `git pull` sirve para actualizar el repositorio *local* descargando los cambios del repositorio remoto. Si hay trabajo colaborativo, es buena idea hacer esto con cierta regularidad. Este comando equivale a `git fetch` y `git merge`"
   ]
  },
  {
   "cell_type": "markdown",
   "metadata": {},
   "source": [
    "- `git clone https://github.com/usuario/proyecto` sirve para clonar en un máquina (localmente) un repositorio remoto. Esto hace una copia íntegra en la máquina local del repositorio remoto, es decir, se guarda *todo* el historial del desarrollo del proyecto de manera íntegra."
   ]
  },
  {
   "cell_type": "code",
   "execution_count": null,
   "metadata": {
    "collapsed": true
   },
   "outputs": [],
   "source": []
  }
 ],
 "metadata": {
  "kernelspec": {
   "display_name": "Julia 0.4.4-pre",
   "language": "julia",
   "name": "julia-0.4"
  },
  "language_info": {
   "file_extension": ".jl",
   "mimetype": "application/julia",
   "name": "julia",
   "version": "0.4.4"
  }
 },
 "nbformat": 4,
 "nbformat_minor": 0
}
