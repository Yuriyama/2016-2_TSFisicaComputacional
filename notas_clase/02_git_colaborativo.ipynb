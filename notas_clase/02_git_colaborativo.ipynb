{
 "cells": [
  {
   "cell_type": "markdown",
   "metadata": {},
   "source": [
    "# Colaborando con `git`"
   ]
  },
  {
   "cell_type": "markdown",
   "metadata": {},
   "source": [
    "## Ramas"
   ]
  },
  {
   "cell_type": "markdown",
   "metadata": {},
   "source": [
    "La receta básica de colaboración es \"trabaja en ramas\". Las ramas tienen *poco costo* en `git`, ya que esencialmente sólo son unos pocos archivo de texto que apuntan a ciertos lugares."
   ]
  },
  {
   "cell_type": "markdown",
   "metadata": {},
   "source": [
    "Para obtener información sobre las ramas, uno usa\n",
    "```\n",
    "> git branch -v\n",
    "```"
   ]
  },
  {
   "cell_type": "code",
   "execution_count": 1,
   "metadata": {
    "collapsed": false
   },
   "outputs": [
    {
     "name": "stdout",
     "output_type": "stream",
     "text": [
      "* lbenet/clase2 39edb03 Otro cambio al notebook de git colaborativo\n",
      "  master        39edb03 [ahead 1] Otro cambio al notebook de git colaborativo\n"
     ]
    }
   ],
   "source": [
    "; git branch -v"
   ]
  },
  {
   "cell_type": "markdown",
   "metadata": {},
   "source": [
    "Para crear una rama, una opción es utilizar el comando:\n",
    "\n",
    "```\n",
    "> git branch nombre_rama\n",
    "```"
   ]
  },
  {
   "cell_type": "code",
   "execution_count": 2,
   "metadata": {
    "collapsed": true
   },
   "outputs": [],
   "source": [
    "; git branch nombre_rama"
   ]
  },
  {
   "cell_type": "code",
   "execution_count": 3,
   "metadata": {
    "collapsed": false
   },
   "outputs": [
    {
     "name": "stdout",
     "output_type": "stream",
     "text": [
      "* lbenet/clase2 39edb03 Otro cambio al notebook de git colaborativo\n",
      "  master        39edb03 [ahead 1] Otro cambio al notebook de git colaborativo\n",
      "  nombre_rama   39edb03 Otro cambio al notebook de git colaborativo\n"
     ]
    }
   ],
   "source": [
    "; git branch -v"
   ]
  },
  {
   "cell_type": "markdown",
   "metadata": {},
   "source": [
    "El comando `git branch nombre_rama` crea la rama \"nombre_rama\", pero no nos pone en ella. Para\n",
    "cambiarnos a esa rama, hacemos:\n",
    "```\n",
    "> git checkout nombre_rama\n",
    "```"
   ]
  },
  {
   "cell_type": "code",
   "execution_count": 4,
   "metadata": {
    "collapsed": false
   },
   "outputs": [
    {
     "name": "stderr",
     "output_type": "stream",
     "text": [
      "Switched to branch 'nombre_rama'\n"
     ]
    },
    {
     "name": "stdout",
     "output_type": "stream",
     "text": [
      "M\tnotas_clase/02_git_colaborativo.ipynb\n"
     ]
    }
   ],
   "source": [
    "; git checkout nombre_rama"
   ]
  },
  {
   "cell_type": "code",
   "execution_count": 5,
   "metadata": {
    "collapsed": false
   },
   "outputs": [
    {
     "name": "stdout",
     "output_type": "stream",
     "text": [
      "On branch nombre_rama\n",
      "Changes not staged for commit:\n",
      "  (use \"git add <file>...\" to update what will be committed)\n",
      "  (use \"git checkout -- <file>...\" to discard changes in working directory)\n",
      "\n",
      "\tmodified:   02_git_colaborativo.ipynb\n",
      "\n",
      "Untracked files:\n",
      "  (use \"git add <file>...\" to include in what will be committed)\n",
      "\n",
      "\t03_Julia_basico.ipynb\n",
      "\n",
      "no changes added to commit (use \"git add\" and/or \"git commit -a\")\n"
     ]
    }
   ],
   "source": [
    "; git status"
   ]
  },
  {
   "cell_type": "markdown",
   "metadata": {},
   "source": [
    "(Entre paréntesis, me regreso a la rama \"lbenet/clase2\", donde estaba trabajando, para evitar como el mensaje anterior!\")"
   ]
  },
  {
   "cell_type": "code",
   "execution_count": 6,
   "metadata": {
    "collapsed": false
   },
   "outputs": [
    {
     "name": "stderr",
     "output_type": "stream",
     "text": [
      "Switched to branch 'lbenet/clase2'\n"
     ]
    },
    {
     "name": "stdout",
     "output_type": "stream",
     "text": [
      "M\tnotas_clase/02_git_colaborativo.ipynb\n"
     ]
    }
   ],
   "source": [
    "; git checkout lbenet/clase2"
   ]
  },
  {
   "cell_type": "code",
   "execution_count": 7,
   "metadata": {
    "collapsed": false
   },
   "outputs": [
    {
     "name": "stdout",
     "output_type": "stream",
     "text": [
      "* lbenet/clase2 39edb03 Otro cambio al notebook de git colaborativo\n",
      "  master        39edb03 [ahead 1] Otro cambio al notebook de git colaborativo\n",
      "  nombre_rama   39edb03 Otro cambio al notebook de git colaborativo\n"
     ]
    }
   ],
   "source": [
    "; git branch -v"
   ]
  },
  {
   "cell_type": "markdown",
   "metadata": {},
   "source": [
    "Un atajo de lo anterior, es decir, crear una rama \"nombre_rama\" y cambiarnos a ella se obtiene usando el comando:\n",
    "```\n",
    "> git checkout -b nombre_rama\n",
    "```"
   ]
  },
  {
   "cell_type": "markdown",
   "metadata": {},
   "source": [
    "Para borrar una rama, se ejecuta\n",
    "```\n",
    "> git branch -d nombre_rama\n",
    "```"
   ]
  },
  {
   "cell_type": "code",
   "execution_count": 8,
   "metadata": {
    "collapsed": false
   },
   "outputs": [
    {
     "name": "stdout",
     "output_type": "stream",
     "text": [
      "Deleted branch nombre_rama (was 39edb03).\n"
     ]
    }
   ],
   "source": [
    "; git branch -d nombre_rama"
   ]
  },
  {
   "cell_type": "code",
   "execution_count": 9,
   "metadata": {
    "collapsed": false
   },
   "outputs": [
    {
     "name": "stdout",
     "output_type": "stream",
     "text": [
      "* lbenet/clase2 39edb03 Otro cambio al notebook de git colaborativo\n",
      "  master        39edb03 [ahead 1] Otro cambio al notebook de git colaborativo\n"
     ]
    }
   ],
   "source": [
    "; git branch -v"
   ]
  },
  {
   "cell_type": "markdown",
   "metadata": {},
   "source": [
    "Es útil que la rama tenga un nombre distintivo, como \"lbenet/clase2\", donde se indique el tipo de cosas que se está implementando. Noten que el nombre \"lbenet/clase2\" me distingue como usuario, y a la vez me permite trabajar en otros desarrollos, como podría ser \"lbenet/clase3\". Ese nombre sugiere que trabajo en un subdirectorio..."
   ]
  },
  {
   "cell_type": "markdown",
   "metadata": {},
   "source": [
    "## Trabajo colaborativo"
   ]
  },
  {
   "cell_type": "markdown",
   "metadata": {},
   "source": [
    "La idea del trabajo en ramas es mantener la convención de que la rama de referencia es \"master\", y el trabajo se hace en otras ramas. Así, cualquier cambio o actualización importante se incorpora a \"master\", y uno (como colaborador) debe mantener su rama compatible con \"master\".\n"
   ]
  },
  {
   "cell_type": "markdown",
   "metadata": {},
   "source": [
    "Una vez que el material implementado en una rama particular ha sido probado, *y que está listo* para pasar a la versión en \"master\" (por eso es importante probarlos!), y entonces deben ser tomados en cuenta por otros contribuidores al proyecto, uno ejecuta los comandos:\n",
    "```\n",
    "> git checkout master\n",
    "> git merge nombre_rama\n",
    "```\n",
    "\n",
    "Esto es, uno se pasa a la rama \"master\" y desde ahí \"une\" (*merge*) los desarrollos de la rama \"nombre_rama\" a \"master\".\n",
    "\n",
    "**Sin embargo**, es **importante** hacer notar que, en GitHub, uno puede hacer un `pull request` desde una rama particular a otra rama; en particular, se puede hacer un `pull request` desde su fork del proyecto, en una rama específica no necesariamente \"master\", al proyecto central en la rama master."
   ]
  },
  {
   "cell_type": "markdown",
   "metadata": {},
   "source": [
    "Otra instrucción útil es \n",
    "```\n",
    "> git reset HEAD <file>\n",
    "```\n",
    "y lo que hace es regresar al último commit (llamado HEAD, por ejemplo, o cualquier otro específico), o sea, \"resetea\" los cambios al último commit.\n"
   ]
  },
  {
   "cell_type": "markdown",
   "metadata": {},
   "source": [
    "Una situación corriente es que, mientras uno está trabajando en una rama específica, hay cambios en \"master\" que uno *debe* incluir antes de que su trabajo se incorpore a \"master\"; esto ayuda a evitar conflictos, aunque pueden seguir ocurriendo.\n",
    "\n",
    "Para incluir los cambios en \"master\" a la rama actual de trabajo (por ejemplo, \"lbenet/clase2\"), uno ejecuta el comando\n",
    "```\n",
    "> git rebase master\n",
    "```\n",
    "\n",
    "y, si todo va bien, uno obtiene un mensaje algo parecido a\n",
    "```\n",
    "First, rewinding head to replay your work on top of it...\n",
    "Fast-forwarded lbenet/clase2 to master.\n",
    "```\n",
    "\n",
    "Este mensaje claramente describe lo que git internamente hace: pone a las ramas en un punto común de su pasado, y rehace todos los cambios implementados."
   ]
  },
  {
   "cell_type": "markdown",
   "metadata": {},
   "source": [
    "Otro comando muy útil es:\n",
    "```\n",
    "> git help <command>\n",
    "```\n",
    "\n",
    "donde \"<command>\" es un comando de `git` (por ejemplo, `merge`, `rebase`, etc.)"
   ]
  },
  {
   "cell_type": "markdown",
   "metadata": {},
   "source": [
    "**Ejercicio 3**: Hagan el tutorial que está en: http://pcottle.github.io/learnGitBranching/. La tarea consiste en mandar la imagen de la pantalla que aparece a la hora de haber resuelto ese ejercicio; el archivo debe llamarse `ejercicio3.jpg` y debe estar en **su** carpeta de tareas (e.g., tareas/usuario_en_github/ejercicio3). El \"pull request\" lo deben de hacer desde alguna rama particular de su fork que **no** sea \"master\", a \"master\" del proyecto del curso."
   ]
  }
 ],
 "metadata": {
  "kernelspec": {
   "display_name": "Julia 0.4.4-pre",
   "language": "julia",
   "name": "julia-0.4"
  },
  "language_info": {
   "file_extension": ".jl",
   "mimetype": "application/julia",
   "name": "julia",
   "version": "0.4.4"
  }
 },
 "nbformat": 4,
 "nbformat_minor": 0
}
