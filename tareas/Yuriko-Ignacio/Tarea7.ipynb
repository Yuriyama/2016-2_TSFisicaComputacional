{
 "cells": [
  {
   "cell_type": "markdown",
   "metadata": {},
   "source": [
    "**Tarea 7 - Integracion Taylor**\n",
    "\n",
    "Estudiantes: Yuriko Yamamoto, Ignacio Vargas"
   ]
  },
  {
   "cell_type": "markdown",
   "metadata": {},
   "source": [
    "**Ejercicio 1:** Usando su implementación de polinomios de Taylor, escriban un integrador para la ecuación diferencial que se desarrolló en este ejemplo, esto es, con la condición inicial x(0)=3.\n",
    "\n",
    "El integrador debe hacer las operaciones necesarias para obtener automáticamente los coeficientes x[k], en cada paso de integración, a partir de la condición inicial local. Un requisito básico para esto es que tengan una implementación de la función Pα(x)=[g(x)]α con g(x) un polinomio, que obtuvieron en la \"Tarea6\", y que funcione bien en particular para alpha::Int."
   ]
  },
  {
   "cell_type": "markdown",
   "metadata": {},
   "source": [
    "La implementación debe consistir de varias funciones: \n",
    "\n",
    "- Una función donde se calculen los coeficientes $x_{[k]}(t_0)$ de la expansión. Esta función deberá llamar a otra donde se implementan las ecuaciones de movimiento.\n",
    "\n",
    "- Una función donde se obtenga el paso de integración $h$.\n",
    "\n",
    "- Otra función donde se haga la suma por el método de Horner.\n",
    "\n",
    "- Finalmente, una función que use las funciones anteriores para hacer la integración desde un tiempo inicial a uno final. En este punto, *fingiremos ignorancia*, en el sentido que el tiempo inicial es cero, y el tiempo final será $0.5$ (que está más allá de donde hay problemas).\n"
   ]
  },
  {
   "cell_type": "markdown",
   "metadata": {},
   "source": [
    "Dado que conocemos la solución analítica, den como función de $t$ el error relativo de su integrador (respecto al valor del resultado analítico)."
   ]
  },
  {
   "cell_type": "code",
   "execution_count": 1,
   "metadata": {
    "collapsed": false
   },
   "outputs": [
    {
     "name": "stderr",
     "output_type": "stream",
     "text": [
      "WARNING: Base.String is deprecated, use AbstractString instead.\n",
      "  likely near /home/ignacio/Documents/Physics/2016-2/TemasSelectosFisComp/tareas/Yuriko-Ignacio/Taylor2.jl:194\n"
     ]
    },
    {
     "data": {
      "text/plain": [
       "horner (generic function with 2 methods)"
      ]
     },
     "execution_count": 1,
     "metadata": {},
     "output_type": "execute_result"
    }
   ],
   "source": [
    "#Primer Ejercicio\n",
    "include(\"Taylor2.jl\")\n",
    "using Taylor2\n",
    "\n",
    "#Tengo un problema aqui. Si no vuelvo a incluir Taylor de Taylor2.jl explicitamente aqui, me dice que no existe\n",
    "type Taylor{T<:Number}\n",
    "    \n",
    "    coeficientes :: Array{T,1}\n",
    "    orden :: Int\n",
    "    \n",
    "    #Constructor interno\n",
    "    function Taylor(coeficientes::Array{T,1}, orden::Int)\n",
    "        \n",
    "        longitud_coeficientes= length(coeficientes)\n",
    "        orden = max(orden, longitud_coeficientes-1)\n",
    "        \n",
    "        vector = zeros(T, orden+1)\n",
    "        \n",
    "        vector[1:longitud_coeficientes] = coeficientes[1:end]\n",
    "        new(vector, orden)\n",
    "        \n",
    "    end\n",
    "end\n",
    "\n",
    "##############################################################\n",
    "#Funcion TaylorInt\n",
    "function TaylorInt{T<:Number, S<:Number}(a::Taylor{T}, x::S)\n",
    "    \n",
    "    R = promote_type(T, typeof(a.coeficientes[1] / 1), S)\n",
    "    coeficientes = zeros(R, a.orden+1)\n",
    "    \n",
    "    @inbounds for i = 1:a.orden\n",
    "        coeficientes[i+1] = a.coeficientes[i] / i\n",
    "    end\n",
    "    \n",
    "    @inbounds coeficientes[1] = convert(R, x)\n",
    "    return Taylor(coeficientes, a.orden)\n",
    "\n",
    "end\n",
    "\n",
    "TaylorInt{T<:Number}(a::Taylor{T}) = TaylorInt(a, zero(T))\n",
    "##############################################################\n",
    "#Funcion Horner\n",
    "\n",
    "function horner{T<:Number,S<:Number}(a::Taylor{T}, dx::S)\n",
    "    \n",
    "    R = promote_type(T,S)\n",
    "    @inbounds suma = convert(R, a.coeficientes[end])\n",
    "    \n",
    "    @inbounds for k = a.orden:-1:1\n",
    "        suma = suma*dx + a.coeficientes[k]\n",
    "    end\n",
    "    suma\n",
    "    \n",
    "end\n",
    "\n",
    "horner{T<:Number}(a::Taylor{T}) = a.coeficientes[1]\n",
    "##############################################################"
   ]
  },
  {
   "cell_type": "markdown",
   "metadata": {},
   "source": [
    "**Ejercicio 2:** Repitan los cálculos usando el método de Runge-Kutta de 4o orden con paso de integración fijo (que es lo más sofisticado que conocen hasta ahora) y comparen los resultados del error relativo con el método de Taylor. En particular, finjan ignorancia de la misma manera que en el ejercicio anterior."
   ]
  },
  {
   "cell_type": "code",
   "execution_count": 2,
   "metadata": {
    "collapsed": true
   },
   "outputs": [],
   "source": [
    "#Segundo Ejercicio"
   ]
  },
  {
   "cell_type": "markdown",
   "metadata": {},
   "source": [
    "**Ejercicio 3:** Integra la ecuación de movimiento para el oscilador armónico, $\\ddot{x} = -2x$, con $x(0)=2$, $\\dot{x}(0)=0$, durante 10^4 periodos de oscilación (o sea, hasta $t_f = 10^4 \\cdot 2\\pi/\\sqrt{2}$, usando el método de Taylor y el método de Runge-Kutta de 4o orden con paso de integración constante. Compara cómo cambia la energía (respecto al valor al tiempo cero) en función del tiempo para ambos métodos."
   ]
  },
  {
   "cell_type": "code",
   "execution_count": 3,
   "metadata": {
    "collapsed": true
   },
   "outputs": [],
   "source": [
    "#Tercer Ejercicio"
   ]
  }
 ],
 "metadata": {
  "kernelspec": {
   "display_name": "Julia 0.4.5",
   "language": "julia",
   "name": "julia-0.4"
  },
  "language_info": {
   "file_extension": ".jl",
   "mimetype": "application/julia",
   "name": "julia",
   "version": "0.4.5"
  }
 },
 "nbformat": 4,
 "nbformat_minor": 0
}
