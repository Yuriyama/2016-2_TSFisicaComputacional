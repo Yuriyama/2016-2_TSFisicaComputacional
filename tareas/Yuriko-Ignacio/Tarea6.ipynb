{
 "cells": [
  {
   "cell_type": "code",
   "execution_count": 1,
   "metadata": {
    "collapsed": true
   },
   "outputs": [],
   "source": [
    "# Tarea 6 - Derivadas Superiores\n",
    "\n",
    "### Autores: Yuriko Yamamoto, Ignacio Vargas"
   ]
  },
  {
   "cell_type": "markdown",
   "metadata": {},
   "source": [
    "I. Implementen una nueva estructura paramétrica (`type`) que defina el tipo `Taylor`, donde el parámetro debe ser un subtipo de `Number`. Definan métodos que implementen las operaciones aritméticas básicas (`+`, `-`, `*`, `/`) y la igualdad (`==`). Esto deberá ser incluido en un módulo.\n",
    "\n",
    "Incluyan pruebas (en el archivo \"runtests.jl\") para cada uno de los métodos que implementen."
   ]
  },
  {
   "cell_type": "code",
   "execution_count": 2,
   "metadata": {
    "collapsed": false
   },
   "outputs": [],
   "source": [
    "import Base: length, zero"
   ]
  },
  {
   "cell_type": "code",
   "execution_count": 3,
   "metadata": {
    "collapsed": false
   },
   "outputs": [
    {
     "data": {
      "text/plain": [
       "Taylor{T<:Number}"
      ]
     },
     "execution_count": 3,
     "metadata": {},
     "output_type": "execute_result"
    }
   ],
   "source": [
    "type Taylor{T<:Number}\n",
    "    \n",
    "    coeficientes :: Array{T,1}\n",
    "    orden :: Int\n",
    "    \n",
    "    #Constructor interno\n",
    "    function Taylor(coeficientes::Array{T,1}, orden::Int)\n",
    "        \n",
    "        longitud_coeficientes= length(coeficientes)\n",
    "        orden = max(orden, longitud_coeficientes-1)\n",
    "        \n",
    "        vector = zeros(T, orden+1)\n",
    "        \n",
    "        vector[1:longitud_coeficientes] = coeficientes[1:end]\n",
    "        new(vector, orden)\n",
    "        \n",
    "    end\n",
    "end\n",
    "\n",
    "#Constructor externo\n",
    "Taylor{T<:Number}(x::Taylor{T}, orden::Int) = Taylor{T}(x.coeficientes, orden)\n",
    "Taylor{T<:Number}(x::Taylor{T}) = x\n",
    "Taylor{T<:Number}(coeficientes::Array{T,1}, orden::Int) = Taylor{T}(coeficientes, orden)\n",
    "Taylor{T<:Number}(coeficientes::Array{T,1}) = Taylor{T}(coeficientes, length(coeficientes)-1)\n",
    "Taylor{T<:Number}(x::T, orden::Int) = Taylor{T}([x], orden)\n",
    "Taylor{T<:Number}(x::T) = Taylor{T}([x], 0)"
   ]
  },
  {
   "cell_type": "code",
   "execution_count": 4,
   "metadata": {
    "collapsed": false,
    "scrolled": true
   },
   "outputs": [
    {
     "data": {
      "text/plain": [
       "one (generic function with 1 method)"
      ]
     },
     "execution_count": 4,
     "metadata": {},
     "output_type": "execute_result"
    }
   ],
   "source": [
    "#Tipo, longitud\n",
    "eltype{T<:Number}(::Taylor{T}) = T\n",
    "length{T<:Number}(a::Taylor{T}) = a.orden\n",
    "\n",
    "#Conversion y reglas promocion\n",
    "convert{T<:Number}(::Type{Taylor{T}}, a::Taylor) = Taylor(convert(Array{T,1}, a.coeficientes), a.orden)\n",
    "convert{T<:Number, S<:Number}(::Type{Taylor{T}}, b::Array{S,1}) = Taylor(convert(Array{T,1},b))\n",
    "convert{T<:Number, S<:Number}(::Type{Taylor{T}}, b::S) = Taylor([convert(T,b)], 0)\n",
    "\n",
    "promote_rule{T<:Number, S<:Number}(::Type{Taylor{T}}, ::Type{Taylor{S}}) = Taylor{promote_type(T, S)}\n",
    "promote_rule{T<:Number, S<:Number}(::Type{Taylor{T}}, ::Type{Array{S,1}}) = Taylor{promote_type(T, S)}\n",
    "promote_rule{T<:Number, S<:Number}(::Type{Array{S,1}}, ::Type{Taylor{T}}) = Taylor{promote_type(T, S)}\n",
    "promote_rule{T<:Number, S<:Number}(::Type{Taylor{T}}, ::Type{S}) = Taylor{promote_type(T, S)}\n",
    "promote_rule{T<:Number, S<:Number}(::Type{S}, ::Type{Taylor{T}}) = Taylor{promote_type(T, S)}\n",
    "\n",
    "#Funcion auxiliar\n",
    "function primer_no_cero{T<:Number}(a::Taylor{T})\n",
    "    no_cero::Int = a.order+1\n",
    "    for i = 1:orden+1\n",
    "        if a.coeficientes[i] != z\n",
    "            no_cero= i-1\n",
    "            break\n",
    "        end\n",
    "    end\n",
    "    no_cero\n",
    "end\n",
    "\n",
    "function arreglar_forma{T<:Number, S<:Number}(a::Taylor{T}, b::Taylor{S})\n",
    "    orden = max(a.orden, b.orden)\n",
    "    a1, b1 = promote(a, b)\n",
    "    return Taylor(a1, orden), Taylor(b1, orden), orden\n",
    "end\n",
    "\n",
    "#Zero y uno\n",
    "zero{T<:Number}(a::Taylor{T}) = Taylor1(zero(T), a.orden)\n",
    "one{T<:Number}(a::Taylor{T}) = Taylor1(one(T), a.orden)"
   ]
  },
  {
   "cell_type": "code",
   "execution_count": 5,
   "metadata": {
    "collapsed": false
   },
   "outputs": [
    {
     "data": {
      "text/plain": [
       "/ (generic function with 51 methods)"
      ]
     },
     "execution_count": 5,
     "metadata": {},
     "output_type": "execute_result"
    }
   ],
   "source": [
    "import Base: +, -, *, /, ==\n",
    "\n",
    "#Igualdad\n",
    "function ==(a::Taylor, b::Taylor)\n",
    "    a1, b1, orden = arreglar_forma(a, b)\n",
    "    return a1.coeficientes == b1.coeficientes\n",
    "end\n",
    "==(a::Taylor, b::Number) = ==(a, Taylor(b, a.orden))\n",
    "==(a::Number, b::Taylor) = ==(b, Taylor(a, b.orden))\n",
    "\n",
    "#Suma y resta\n",
    "for f in (:+, :-)\n",
    "    @eval begin\n",
    "        function ($f)(a::Taylor, b::Taylor)\n",
    "            a1, b1, orden = arreglar_forma(a, b)\n",
    "            v = ($f)(a1.coeficientes, b1.coeficientes)\n",
    "            return Taylor(v, orden)\n",
    "        end\n",
    "       ($f)(a::Taylor, b::Number) = ($f)(a, Taylor(b, a.orden))\n",
    "       ($f)(a::Number, b::Taylor) = ($f)(Taylor(a, b.orden), b)\n",
    "       ($f)(a::Taylor) = Taylor(($f)(a.coeficientes), a.orden)\n",
    "    end\n",
    "end\n",
    "\n",
    "#Multiplicacion\n",
    "function *(a::Taylor, b::Taylor)\n",
    "    a1, b1, orden = arreglar_forma(a, b)\n",
    "    T = eltype(a1)\n",
    "    coeficientes = zeros(T,orden+1)\n",
    "    coeficientes[1] = a1.coeficientes[1] * b1.coeficientes[1]\n",
    "    for k = 1:orden\n",
    "        coeficientes[k+1] = mulHomogcoef(k, a1.coeficientes, b1.coeficientes)\n",
    "    end\n",
    "    Taylor(coeficientes, orden)\n",
    "end\n",
    "\n",
    "#Coeficiente homogeneo para multiplicacion\n",
    "function mulHomogcoef{T<:Number}(kcoef::Integer, ac::Array{T,1}, bc::Array{T,1})\n",
    "    coefhomog = zero(T)\n",
    "    for i = 0:kcoef\n",
    "        coefhomog += ac[i+1] * bc[kcoef-i+1]\n",
    "    end\n",
    "    coefhomog\n",
    "end\n",
    "*(a::Taylor, b::Number) = Taylor(b*a.coeficientes, a.orden)\n",
    "*(a::Number, b::Taylor) = Taylor(a*b.coeficientes, b.orden)\n",
    "\n",
    "#Division\n",
    "function /(a::Taylor, b::Taylor)\n",
    "    a1, b1, orden = arreglar_forma(a, b)\n",
    "    ordLHopital, cLHopital = divlhopital(a1, b1) # L'Hôpital orden y coeficiente\n",
    "    T = typeof(cLHopital)\n",
    "    v1 = convert(Array{T,1}, a1.coeficientes)\n",
    "    v2 = convert(Array{T,1}, b1.coeficientes)\n",
    "    coeficientes = zeros(T,orden+1)\n",
    "    coeficientes[1] = cLHopital\n",
    "    for k = ordLHopital+1:orden\n",
    "        coeficientes[k-ordLHopital+1] = divHomogcoef(k, v1, v2, coeficientes, ordLHopital)\n",
    "    end\n",
    "    Taylor(coeficientes, orden)\n",
    "end\n",
    "\n",
    "# Coeficiente Homogeneo para Division\n",
    "function divHomogcoef{T<:Number}(kcoef::Integer, ac::Array{T,1}, bc::Array{T,1}, \n",
    "        coeficientes::Array{T,1}, ordLHopital::Integer)\n",
    "    coefhomog = mulHomogcoef(kcoef, coeficientes, bc)\n",
    "    coefhomog = (ac[kcoef+1]-coefhomog) / bc[ordLHopital+1]\n",
    "    coefhomog\n",
    "end\n",
    "/(a::Taylor,b::Number) = Taylor(a.coeficientes/b, a.orden)\n",
    "/(a::Number,b::Taylor) = Taylor([a], b.orden) / b"
   ]
  },
  {
   "cell_type": "code",
   "execution_count": 6,
   "metadata": {
    "collapsed": false,
    "scrolled": true
   },
   "outputs": [
    {
     "data": {
      "text/plain": [
       "true"
      ]
     },
     "execution_count": 6,
     "metadata": {},
     "output_type": "execute_result"
    }
   ],
   "source": [
    "# Muestren que su código funciona con tests adecuados; para los detalles ver \n",
    "# http://julia.readthedocs.org/en/release-0.4/stdlib/test/\n",
    "using Base.Test\n",
    "\n",
    "#Defino t1 de tipo Taylor\n",
    "t1=Taylor{Int64}([1,2],8)\n",
    "#Defino t2 de tipo Taylor\n",
    "t2 = Taylor([2,2,0,0,0,0,0,0,1],8)\n",
    "#Defino t3 de tipo Taylor\n",
    "t3=Taylor{Int64}([1,2],8)\n",
    "#Prueba de la suma\n",
    "t1+t2\n",
    "#Prueba de la suma\n",
    "t1+t3\n",
    "#Prueba de la resta\n",
    "t1-t2\n",
    "#Prueba del producto\n",
    "t1*t2\n",
    "#Prueba del producto\n",
    "t2*t1\n",
    "#Prueba del producto\n",
    "t1*t3\n",
    "#Prueba del producto\n",
    "t3*t2\n",
    "#Prueba del producto\n",
    "t2*t3\n",
    "#Prueba de la igualdad. Marca error\n",
    "t1==t2\n",
    "#Prueba de la igualdad. No marca error\n",
    "t1==t3"
   ]
  },
  {
   "cell_type": "markdown",
   "metadata": {},
   "source": [
    "II. Obtengan las relaciones de recurrencia para las funciones $L(x) = \\log\\big(g(x)\\big)$, $P_\\alpha(x) = \\big(g(x)\\big)^\\alpha$, $S(x) = \\sin\\big(g(x)\\big)$, $C(x) = \\cos\\big(g(x)\\big)$ usando el mismo procedimiento que arriba. Implementen métodos adecuados para estas funciones en el módulo, actuando sobre estructuras `Taylor` e incluyan pruebas."
   ]
  },
  {
   "cell_type": "code",
   "execution_count": 7,
   "metadata": {
    "collapsed": false
   },
   "outputs": [
    {
     "data": {
      "text/plain": [
       "logHomogcoef (generic function with 1 method)"
      ]
     },
     "execution_count": 7,
     "metadata": {},
     "output_type": "execute_result"
    }
   ],
   "source": [
    "#Logaritmo\n",
    "function log(a::Taylor)\n",
    "    orden = a.orden\n",
    "    l0nz = primer_no_cero(a)\n",
    "    if primer_no_cero(a)>0\n",
    "        error(\"No es posible expander log alrededor de 0.\\n\")\n",
    "    end\n",
    "    aux = log( a.coeficientes[1] )\n",
    "    T = typeof(aux)\n",
    "    ac = convert(Array{T,1}, a.coeficientes)\n",
    "    coeficientes = zeros(T, orden+1)\n",
    "    coeficientes[1] = aux\n",
    "    for k = 1:orden\n",
    "        coeficientes[k+1] = logHomogcoef(k, ac, coeficientes)\n",
    "    end\n",
    "    Taylor( coeficientes, orden )\n",
    "end\n",
    "#Coeficientes homogeneos para logaritmo\n",
    "function logHomogcoef{T<:Number}(kcoef::Integer, ac::Array{T,1}, coeficientes::Array{T,1})\n",
    "  coefhomog = zero(T)\n",
    "  for i = 1:kcoef-1\n",
    "    coefhomog += (kcoef-i) * ac[i+1] * coeficientes[kcoef-i+1]\n",
    "  end\n",
    "  coefhomog = (ac[kcoef+1] -coefhomog/kcoef) / ac[1]\n",
    "  coefhomog\n",
    "end"
   ]
  },
  {
   "cell_type": "code",
   "execution_count": null,
   "metadata": {
    "collapsed": true
   },
   "outputs": [],
   "source": []
  },
  {
   "cell_type": "code",
   "execution_count": 8,
   "metadata": {
    "collapsed": false
   },
   "outputs": [
    {
     "name": "stderr",
     "output_type": "stream",
     "text": [
      "WARNING: module Main should explicitly import ^ from Base\n"
     ]
    },
    {
     "data": {
      "text/plain": [
       "^ (generic function with 46 methods)"
      ]
     },
     "execution_count": 8,
     "metadata": {},
     "output_type": "execute_result"
    }
   ],
   "source": [
    "#Exponente\n",
    "function ^(a::Taylor, x::Integer)\n",
    "    uno = one(a)\n",
    "    if x < 0\n",
    "        return uno / a^(-x)\n",
    "    elseif x == 0\n",
    "        return uno\n",
    "    elseif x%2 == 0 # par\n",
    "        if x == 2\n",
    "            return square(a)\n",
    "        else\n",
    "            pow = div(x, 2)\n",
    "            return square( a^pow )\n",
    "        end\n",
    "    else  # impar\n",
    "        if x == 1\n",
    "            return a\n",
    "        else\n",
    "            expon = div(x-1, 2)\n",
    "            return a*square( a^expon )\n",
    "        end\n",
    "    end\n",
    "end"
   ]
  },
  {
   "cell_type": "code",
   "execution_count": null,
   "metadata": {
    "collapsed": true
   },
   "outputs": [],
   "source": []
  },
  {
   "cell_type": "code",
   "execution_count": 9,
   "metadata": {
    "collapsed": false
   },
   "outputs": [
    {
     "name": "stderr",
     "output_type": "stream",
     "text": [
      "WARNING: Base.String is deprecated, use AbstractString instead.\n",
      "  likely near In[9]:4\n"
     ]
    },
    {
     "data": {
      "text/plain": [
       "sincosHomogcoef (generic function with 1 method)"
      ]
     },
     "execution_count": 9,
     "metadata": {},
     "output_type": "execute_result"
    }
   ],
   "source": [
    "#Sin y Cos\n",
    "sin(a::Taylor) = sincos(a, \"sin\")\n",
    "cos(a::Taylor) = sincos(a, \"cos\")\n",
    "function sincos(a::Taylor, fun::String)\n",
    "    orden = a.orden\n",
    "    aux = sin( a.coeficientes[1] )\n",
    "    T = typeof(aux)\n",
    "    v = convert(Array{T,1}, a.coeficientes)\n",
    "    sincoeficientes = zeros(T,orden+1)\n",
    "    coscoeficientes = zeros(T,orden+1)\n",
    "    sincoeficientes[1] = aux\n",
    "    coscoeficientes[1] = cos( a.coeficientes[1] )\n",
    "    for k = 1:orden\n",
    "        sincoeficientes[k+1], coscoeficientes[k+1] = sincosHomogcoef(k, v, sincoeficientes, coscoeficientes)\n",
    "    end\n",
    "    if fun == \"sin\"\n",
    "        return Taylor( sincoeficientes, orden )\n",
    "    else\n",
    "        return Taylor( coscoeficientes, orden )\n",
    "    end\n",
    "end\n",
    "#Coeficientes homogeneos para cos y sin\n",
    "function sincosHomogcoef{T<:Number}(kcoef::Integer, ac::Array{T,1}, \n",
    "        sincoeficientes::Array{T,1}, coscoeficientes::Array{T,1})\n",
    "    sincoefhom = zero(T)\n",
    "    coscoefhom = zero(T)\n",
    "    for i = 1:kcoef\n",
    "        number = i * ac[i+1]\n",
    "        sincoefhom += number * coscoeficientes[kcoef-i+1]\n",
    "        coscoefhom -= number * sincoeficientes[kcoef-i+1]\n",
    "    end\n",
    "    sincoefhom = sincoefhom/kcoef\n",
    "    coscoefhom = coscoefhom/kcoef\n",
    "    return sincoefhom, coscoefhom\n",
    "end"
   ]
  },
  {
   "cell_type": "code",
   "execution_count": null,
   "metadata": {
    "collapsed": true
   },
   "outputs": [],
   "source": []
  }
 ],
 "metadata": {
  "kernelspec": {
   "display_name": "Julia 0.4.5",
   "language": "julia",
   "name": "julia-0.4"
  },
  "language_info": {
   "file_extension": ".jl",
   "mimetype": "application/julia",
   "name": "julia",
   "version": "0.4.5"
  }
 },
 "nbformat": 4,
 "nbformat_minor": 0
}
