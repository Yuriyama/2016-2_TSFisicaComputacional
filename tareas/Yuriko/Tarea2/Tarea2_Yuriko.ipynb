{
 "cells": [
  {
   "cell_type": "markdown",
   "metadata": {},
   "source": [
    "# Tarea 2 Yuriko Yamamoto"
   ]
  },
  {
   "cell_type": "markdown",
   "metadata": {},
   "source": [
    "Como siempre, documenten **todo** lo que hacen en el notebook\n",
    "\n",
    "Se recomienda que *colaboren* (equipos de máximo dos personas) en la tarea."
   ]
  },
  {
   "cell_type": "markdown",
   "metadata": {},
   "source": [
    "## 1. Histogramas\n",
    "\n",
    "Usando la función `randn`, generen $N$ valores tipo `Float64` al azar ($N\\sim 10000$, o mayor, es razonable). Construyan la función `histograma`, que regresa un vector de tamaño $n_{hist}$ (que es un argumento de la función) y que contiene el histograma de frecuencias *sin normalizar*. Esto es, la primer componente del vector corresponde al número de valores generados al azar que caen en el intervalo (llamado *bin* en inglés) $[x_0, x_1)$, los de la segunda componente caen en el intervalo $[x_1, x_2)$, etc, hasta $[x_{n_{hist}-1}, x{n_{hist}})$, donde el tamaño de los intervalos es el mismo y corresponde a $\\Delta x = (\\textrm{sup}(x)-\\textrm{inf}(x))/n_{hist}$. (No escatimen en estética.)\n",
    "\n",
    "Dibujen el histograma a partir de sus datos.\n",
    "\n",
    "PyPlot (matplotlib) de hecho tiene [una función]() útil para dibujar histogramas a partir de los datos directamente. Utilizando esa función, muestren el histograma de sus datos. Debería ser muy parecida a la que ya obtuvieron antes.\n",
    "\n",
    "NOTA: Hay esencialmente dos formas de hacerlo, que se distinguen por el número de veces que uno lee los datos. Traten de hacer su implementación usando *una* lectura de los datos. (Si no pueden, llevarán sobre sus hombros esa carga toda su vida.)"
   ]
  },
  {
   "cell_type": "code",
   "execution_count": 1,
   "metadata": {
    "collapsed": false
   },
   "outputs": [
    {
     "data": {
      "text/plain": [
       "20000-element Array{Float64,1}:\n",
       "  0.704637  \n",
       " -0.00159242\n",
       "  2.8172    \n",
       " -0.112148  \n",
       "  0.51385   \n",
       "  0.912569  \n",
       " -0.601192  \n",
       " -1.08932   \n",
       " -0.728402  \n",
       "  0.19512   \n",
       " -0.734856  \n",
       " -0.509568  \n",
       " -0.404855  \n",
       "  ⋮         \n",
       "  0.59148   \n",
       " -0.164033  \n",
       " -0.171907  \n",
       "  0.389844  \n",
       " -0.471466  \n",
       "  0.817232  \n",
       "  1.26242   \n",
       "  0.691472  \n",
       " -0.415273  \n",
       "  1.27071   \n",
       " -0.928542  \n",
       "  0.897711  "
      ]
     },
     "execution_count": 1,
     "metadata": {},
     "output_type": "execute_result"
    }
   ],
   "source": [
    "#Generando N valores aleatorios de tipo Float64\n",
    "N = 20000\n",
    "x = randn(N)"
   ]
  },
  {
   "cell_type": "code",
   "execution_count": 2,
   "metadata": {
    "collapsed": false
   },
   "outputs": [
    {
     "data": {
      "text/plain": [
       "20000"
      ]
     },
     "execution_count": 2,
     "metadata": {},
     "output_type": "execute_result"
    }
   ],
   "source": [
    "#Comprobando que el arreglo tiene N elementos\n",
    "length(x)"
   ]
  },
  {
   "cell_type": "code",
   "execution_count": 43,
   "metadata": {
    "collapsed": false
   },
   "outputs": [
    {
     "name": "stdout",
     "output_type": "stream",
     "text": [
      "Δx = 0.872717511126001 xinf = -4.97351836923251 xsup = 3.7536567420274998"
     ]
    }
   ],
   "source": [
    "#Encontrando el mínimo del arreglo\n",
    "xinf = minimum(x)\n",
    "\n",
    "#Encontrando el máximo del arreglo\n",
    "xsup = maximum(x)\n",
    "\n",
    "#Encontrando el tamaño Δx de los s subintervalos \n",
    "s = 10\n",
    "Δx = (xsup - xinf)/s\n",
    "\n",
    "print(\"Δx = \",Δx, \" xinf = \", xinf, \" xsup = \", xsup) \n",
    "    "
   ]
  },
  {
   "cell_type": "code",
   "execution_count": 47,
   "metadata": {
    "collapsed": false
   },
   "outputs": [
    {
     "data": {
      "text/plain": [
       "histograma (generic function with 1 method)"
      ]
     },
     "execution_count": 47,
     "metadata": {},
     "output_type": "execute_result"
    }
   ],
   "source": [
    "#Definiendo la función histograma\n",
    "function histograma(num::Array, nhist::Int)\n",
    "    \n",
    "    #Calculando el mínimo y máximo del conjunto de números aleatrorios x.\n",
    "    xinf = minimum(num)\n",
    "    xsup = maximum(num)\n",
    "    \n",
    "    #Calculando el tamaño de los nhist intervalos Δx (bin).\n",
    "    Δx = (xsup - xinf) / nhist\n",
    "    #print(\"Δx = \",Δx, \" xinf = \", xinf, \" xsup = \", xsup) \n",
    "    \n",
    "    #Creando el arreglo de frecuencias e iniciándolos en cero.\n",
    "    frecs = zeros(nhist)\n",
    "    \n",
    "    #Ciclo para llevar el conteo de números aleatorios en cada intervalo.\n",
    "    for i in num\n",
    "        a = xinf \n",
    "        b = xinf + Δx\n",
    "        \n",
    "        for j in 1:nhist\n",
    "            if i >= a && i < b\n",
    "                frecs[j] = frecs[j] + 1\n",
    "                \n",
    "            end \n",
    "            \n",
    "            a = a + Δx\n",
    "            b = b + Δx\n",
    "        end\n",
    "        \n",
    "        if i == xsup\n",
    "            frecs[nhist] = frecs[nhist] + 1\n",
    "        end\n",
    "    end    \n",
    "    return frecs \n",
    "end"
   ]
  },
  {
   "cell_type": "code",
   "execution_count": 48,
   "metadata": {
    "collapsed": false
   },
   "outputs": [
    {
     "data": {
      "text/plain": [
       "30-element Array{Float64,1}:\n",
       "    1.0\n",
       "    0.0\n",
       "    0.0\n",
       "    1.0\n",
       "    2.0\n",
       "    6.0\n",
       "   19.0\n",
       "   51.0\n",
       "  100.0\n",
       "  186.0\n",
       "  358.0\n",
       "  616.0\n",
       "  973.0\n",
       "    ⋮  \n",
       " 2152.0\n",
       " 1867.0\n",
       " 1400.0\n",
       " 1028.0\n",
       "  663.0\n",
       "  441.0\n",
       "  239.0\n",
       "  104.0\n",
       "   58.0\n",
       "   20.0\n",
       "   11.0\n",
       "    6.0"
      ]
     },
     "execution_count": 48,
     "metadata": {},
     "output_type": "execute_result"
    }
   ],
   "source": [
    "#Evaluando la función histograma\n",
    "frqs = histograma(x,30)"
   ]
  },
  {
   "cell_type": "code",
   "execution_count": 54,
   "metadata": {
    "collapsed": false
   },
   "outputs": [
    {
     "data": {
      "image/png": "[encoded data removed]",
      "text/plain": [
       "PyPlot.Figure(PyObject <matplotlib.figure.Figure object at 0x31e32e750>)"
      ]
     },
     "metadata": {},
     "output_type": "display_data"
    }
   ],
   "source": [
    "#Graficando Histograma\n",
    "using PyPlot\n",
    "plot(1:30,frqs);"
   ]
  },
  {
   "cell_type": "code",
   "execution_count": 36,
   "metadata": {
    "collapsed": false
   },
   "outputs": [
    {
     "data": {
      "text/plain": [
       "(linspace(-4.9,3.8,31),[0,0,1,0,2,7,31,55,121,215  …  1328,959,613,403,209,94,44,21,7,5])"
      ]
     },
     "execution_count": 36,
     "metadata": {},
     "output_type": "execute_result"
    }
   ],
   "source": [
    "#Usando la función histograma de Julia \n",
    "j = hist(x, linspace(-4.9, 3.8, 31))"
   ]
  },
  {
   "cell_type": "code",
   "execution_count": 49,
   "metadata": {
    "collapsed": false
   },
   "outputs": [
    {
     "data": {
      "text/plain": [
       "Tuple{LinSpace{Float64},Array{Int64,1}}"
      ]
     },
     "execution_count": 49,
     "metadata": {},
     "output_type": "execute_result"
    }
   ],
   "source": [
    "typeof(j)"
   ]
  },
  {
   "cell_type": "code",
   "execution_count": 38,
   "metadata": {
    "collapsed": false
   },
   "outputs": [
    {
     "data": {
      "image/png": "[encoded data removed]",
      "text/plain": [
       "PyPlot.Figure(PyObject <matplotlib.figure.Figure object at 0x31d8e2a10>)"
      ]
     },
     "metadata": {},
     "output_type": "display_data"
    },
    {
     "data": {
      "text/plain": [
       "1-element Array{Any,1}:\n",
       " PyObject <matplotlib.lines.Line2D object at 0x31df47250>"
      ]
     },
     "execution_count": 38,
     "metadata": {},
     "output_type": "execute_result"
    }
   ],
   "source": [
    "#Graficando el histograma de Julia en verde y el de la función que se creó en azul\n",
    "plot(j[2])\n",
    "plot(frqs)"
   ]
  },
  {
   "cell_type": "code",
   "execution_count": 53,
   "metadata": {
    "collapsed": false
   },
   "outputs": [
    {
     "data": {
      "image/png": "[encoded data removed]",
      "text/plain": [
       "PyPlot.Figure(PyObject <matplotlib.figure.Figure object at 0x31dd64150>)"
      ]
     },
     "metadata": {},
     "output_type": "display_data"
    }
   ],
   "source": [
    "#Graficando la diferencia entre ambos histogramas\n",
    "t = frqs - j[2]\n",
    "plot(t);"
   ]
  },
  {
   "cell_type": "markdown",
   "metadata": {},
   "source": [
    "## 2. Promedio y varianza\n",
    "\n",
    "(a) Siguiendo con la generación de datos del ejercicio anterior, hagan una subrutina que calcule el promedio y la varianza de los datos generados anteriormente. Comparen su resultado con lo que se obtiene al utilizar `mean` y `var` (que son las funciones nativas de julia que hacen eso).\n",
    "    \n",
    "(b) Existe un [algoritmo recursivo](https://en.wikipedia.org/wiki/Algorithms_for_calculating_variance#Online_algorithm), ampliamente desconocido, que permite calcular el promedio y la varianza con una sóla lectura de los datos. Impleméntenlo. La *misma* función debería de darles *ambos* valores.\n",
    "    \n",
    "(c) ¿Cuál de todos los algoritmos es el más rápido? Consideren esto para datos de distinta longitud, cubriendo varios órdenes de magnitud.\n"
   ]
  },
  {
   "cell_type": "code",
   "execution_count": 18,
   "metadata": {
    "collapsed": false
   },
   "outputs": [
    {
     "data": {
      "text/plain": [
       "promedioy (generic function with 1 method)"
      ]
     },
     "execution_count": 18,
     "metadata": {},
     "output_type": "execute_result"
    }
   ],
   "source": [
    "#Definiendo la función promedio\n",
    "function promedioy(p)\n",
    "    \n",
    "    #Iniciando el contador suma en cero (Float64)\n",
    "    suma = 0.0\n",
    "    \n",
    "    #Ciclo para obtener la suma de todos los números aleatorios\n",
    "    for xi in p\n",
    "        suma = suma + xi\n",
    "    end\n",
    "    \n",
    "    #Dividiendo la suma entre el número de números aleatorios que tenemos\n",
    "    prom = suma/length(p)\n",
    "    \n",
    "    return prom\n",
    "end"
   ]
  },
  {
   "cell_type": "code",
   "execution_count": 19,
   "metadata": {
    "collapsed": false
   },
   "outputs": [
    {
     "data": {
      "text/plain": [
       "0.00323949888533693"
      ]
     },
     "execution_count": 19,
     "metadata": {},
     "output_type": "execute_result"
    }
   ],
   "source": [
    "#Evaluando la función promedioy\n",
    "promedioy(x)"
   ]
  },
  {
   "cell_type": "code",
   "execution_count": 21,
   "metadata": {
    "collapsed": false
   },
   "outputs": [
    {
     "data": {
      "text/plain": [
       "0.0032394988853369534"
      ]
     },
     "execution_count": 21,
     "metadata": {},
     "output_type": "execute_result"
    }
   ],
   "source": [
    "#Se obtiene el valor promedio con la función mean de Julia\n",
    "mean(x)"
   ]
  },
  {
   "cell_type": "code",
   "execution_count": 22,
   "metadata": {
    "collapsed": false
   },
   "outputs": [
    {
     "name": "stdout",
     "output_type": "stream",
     "text": [
      "  "
     ]
    },
    {
     "data": {
      "text/plain": [
       "0.00323949888533693"
      ]
     },
     "execution_count": 22,
     "metadata": {},
     "output_type": "execute_result"
    },
    {
     "name": "stdout",
     "output_type": "stream",
     "text": [
      "0.000031 seconds (149 allocations: 10.167 KB)\n"
     ]
    }
   ],
   "source": [
    "#Tiempo de la función promedioy\n",
    "@time promedioy(x)"
   ]
  },
  {
   "cell_type": "code",
   "execution_count": 23,
   "metadata": {
    "collapsed": false
   },
   "outputs": [
    {
     "name": "stdout",
     "output_type": "stream",
     "text": [
      "  "
     ]
    },
    {
     "data": {
      "text/plain": [
       "0.0032394988853369534"
      ]
     },
     "execution_count": 23,
     "metadata": {},
     "output_type": "execute_result"
    },
    {
     "name": "stdout",
     "output_type": "stream",
     "text": [
      "0.000017 seconds (5 allocations: 176 bytes)\n"
     ]
    }
   ],
   "source": [
    "#Tiempo de la función mean \n",
    "@time mean(x)"
   ]
  },
  {
   "cell_type": "code",
   "execution_count": 25,
   "metadata": {
    "collapsed": false
   },
   "outputs": [
    {
     "data": {
      "text/plain": [
       "varianzay (generic function with 1 method)"
      ]
     },
     "execution_count": 25,
     "metadata": {},
     "output_type": "execute_result"
    }
   ],
   "source": [
    "#Definiendo la función varianza\n",
    "function varianzay(v)\n",
    "    \n",
    "    #Iniciando el contador suma en cero (Float64)\n",
    "    suma = 0.0\n",
    "   \n",
    "    #Ciclo para obtener la suma del cuadrado de los números aleatorios\n",
    "    for vi in v\n",
    "        suma = suma + (vi^2)\n",
    "    end\n",
    "    \n",
    "    \n",
    "    d = suma/length(v)\n",
    "    \n",
    "    prom = promedioy(v)\n",
    "    \n",
    "    var1 = d - prom^2\n",
    "    \n",
    "    return var1\n",
    "end"
   ]
  },
  {
   "cell_type": "code",
   "execution_count": 26,
   "metadata": {
    "collapsed": false
   },
   "outputs": [
    {
     "data": {
      "text/plain": [
       "0.9962366239536855"
      ]
     },
     "execution_count": 26,
     "metadata": {},
     "output_type": "execute_result"
    }
   ],
   "source": [
    "#Evaluando la función varianzay\n",
    "varianzay(x)"
   ]
  },
  {
   "cell_type": "code",
   "execution_count": 27,
   "metadata": {
    "collapsed": false
   },
   "outputs": [
    {
     "data": {
      "text/plain": [
       "0.996286438275592"
      ]
     },
     "execution_count": 27,
     "metadata": {},
     "output_type": "execute_result"
    }
   ],
   "source": [
    "#Se obtiene el valor de la varianza con la función var de Julia\n",
    "var(x)"
   ]
  },
  {
   "cell_type": "code",
   "execution_count": 28,
   "metadata": {
    "collapsed": false
   },
   "outputs": [
    {
     "name": "stdout",
     "output_type": "stream",
     "text": [
      "  "
     ]
    },
    {
     "data": {
      "text/plain": [
       "0.9962366239536855"
      ]
     },
     "execution_count": 28,
     "metadata": {},
     "output_type": "execute_result"
    },
    {
     "name": "stdout",
     "output_type": "stream",
     "text": [
      "0.000050 seconds (5 allocations: 176 bytes)\n"
     ]
    }
   ],
   "source": [
    "#Tiempo de la función varianzay \n",
    "@time varianzay(x)"
   ]
  },
  {
   "cell_type": "code",
   "execution_count": 29,
   "metadata": {
    "collapsed": false
   },
   "outputs": [
    {
     "name": "stdout",
     "output_type": "stream",
     "text": [
      "  "
     ]
    },
    {
     "data": {
      "text/plain": [
       "0.996286438275592"
      ]
     },
     "execution_count": 29,
     "metadata": {},
     "output_type": "execute_result"
    },
    {
     "name": "stdout",
     "output_type": "stream",
     "text": [
      "0.000045 seconds (8 allocations: 288 bytes)\n"
     ]
    }
   ],
   "source": [
    "#Tiempo de la función var \n",
    "@time var(x)"
   ]
  },
  {
   "cell_type": "code",
   "execution_count": 51,
   "metadata": {
    "collapsed": false
   },
   "outputs": [
    {
     "data": {
      "text/plain": [
       "alg_recursivo (generic function with 1 method)"
      ]
     },
     "execution_count": 51,
     "metadata": {},
     "output_type": "execute_result"
    }
   ],
   "source": [
    "#Definiendo la función alg_recursivo (algoritmo recursivo)\n",
    "function alg_recursivo(data)\n",
    "    n = 0\n",
    "    mean1 = 0.0\n",
    "    M2 = 0.0\n",
    "     \n",
    "    for x in data\n",
    "        n += 1\n",
    "        delta = x - mean1\n",
    "        mean1 += delta/n\n",
    "        M2 += delta*(x - mean1)\n",
    "    end\n",
    "    \n",
    "    #Devuelve el valor del promedio y varianza\n",
    "    return (mean1, M2 / (n - 1))\n",
    "end"
   ]
  },
  {
   "cell_type": "code",
   "execution_count": 52,
   "metadata": {
    "collapsed": false
   },
   "outputs": [
    {
     "data": {
      "text/plain": [
       "(0.0032394988853369417,0.9962864382755888)"
      ]
     },
     "execution_count": 52,
     "metadata": {},
     "output_type": "execute_result"
    }
   ],
   "source": [
    "#Evaluando la función del algoritmo recursivo\n",
    "alg_recursivo(x)"
   ]
  },
  {
   "cell_type": "code",
   "execution_count": 32,
   "metadata": {
    "collapsed": false
   },
   "outputs": [
    {
     "name": "stdout",
     "output_type": "stream",
     "text": [
      "  "
     ]
    },
    {
     "data": {
      "text/plain": [
       "(0.0032394988853369417,0.9962864382755888)"
      ]
     },
     "execution_count": 32,
     "metadata": {},
     "output_type": "execute_result"
    },
    {
     "name": "stdout",
     "output_type": "stream",
     "text": [
      "0.000190 seconds (5 allocations: 192 bytes)\n"
     ]
    }
   ],
   "source": [
    "#Tiempo de la función alg_recursivo\n",
    "@time alg_recursivo(x)"
   ]
  },
  {
   "cell_type": "markdown",
   "metadata": {},
   "source": [
    "## 3. Método de Simpson para integrar $f(x)$ en un intervalo\n",
    "\n",
    "Implementen el método de Simpson para integrar una función arbitraria $f(x)$."
   ]
  },
  {
   "cell_type": "code",
   "execution_count": 33,
   "metadata": {
    "collapsed": false
   },
   "outputs": [
    {
     "data": {
      "text/plain": [
       "f (generic function with 1 method)"
      ]
     },
     "execution_count": 33,
     "metadata": {},
     "output_type": "execute_result"
    }
   ],
   "source": [
    "#Definir función F\n",
    "f(t) = t^2+1"
   ]
  },
  {
   "cell_type": "code",
   "execution_count": 34,
   "metadata": {
    "collapsed": false
   },
   "outputs": [
    {
     "data": {
      "text/plain": [
       "IntegracionSimpson (generic function with 1 method)"
      ]
     },
     "execution_count": 34,
     "metadata": {},
     "output_type": "execute_result"
    }
   ],
   "source": [
    "#Definiendo la función Integración de Simpson de la función 'F' definida de 'a' a 'b' con 'm' subintervalos.\n",
    "function IntegracionSimpson(F, a, b, m)\n",
    "    \n",
    "    \n",
    "    #Definiendo operaciones internas de la función F\n",
    "    g = (b - a)/6.0\n",
    "    h = F(a)\n",
    "    p = 4 * (F((a + b)/2.0))\n",
    "    q = F(b)\n",
    "    \n",
    "    #Aproximación de la integral.\n",
    "    int =  g * (h + p + q)\n",
    "    \n",
    "    return int\n",
    "end"
   ]
  },
  {
   "cell_type": "code",
   "execution_count": 35,
   "metadata": {
    "collapsed": false
   },
   "outputs": [
    {
     "data": {
      "text/plain": [
       "1.3333333333333333"
      ]
     },
     "execution_count": 35,
     "metadata": {},
     "output_type": "execute_result"
    }
   ],
   "source": [
    "#Prueba del Método de Simpson para integrar la función F\n",
    "IntegracionSimpson(f, 0.0, 1.0, 5)"
   ]
  }
 ],
 "metadata": {
  "kernelspec": {
   "display_name": "Julia 0.4.3",
   "language": "julia",
   "name": "julia-0.4"
  },
  "language_info": {
   "file_extension": ".jl",
   "mimetype": "application/julia",
   "name": "julia",
   "version": "0.4.3"
  }
 },
 "nbformat": 4,
 "nbformat_minor": 0
}
