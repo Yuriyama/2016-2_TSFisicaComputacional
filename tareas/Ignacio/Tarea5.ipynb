{
 "cells": [
  {
   "cell_type": "markdown",
   "metadata": {},
   "source": [
    "# Tarea 5 - Diferenciacion Automatica - Parte 2"
   ]
  },
  {
   "cell_type": "markdown",
   "metadata": {},
   "source": [
    "Autores: Ignacio Vargas Cordero"
   ]
  },
  {
   "cell_type": "markdown",
   "metadata": {},
   "source": [
    "## I. \n",
    "Implementen las funciones relacionadas con potencias, exponenciales, logarítmos, las funciones trigonométricas y las hiperbólicas que tiene Julia definidas (ver la [documentación](http://julia.readthedocs.org/en/release-0.4/manual/mathematical-operations/#trigonometric-and-hyperbolic-functions)). La implementación debe incluir los tests adecuados. La manera en que implementen las cosas debe estar clara en el notebook \"Tarea5.ipynb\", pero toda la funcionalidad debe ser incluida en \"AutomDiff.jl\" al igual que en \"runtests.jl\"\n",
    "\n",
    "**Hint:** Aprovechen las capacidades de Julia en metaprogramming."
   ]
  },
  {
   "cell_type": "code",
   "execution_count": 2,
   "metadata": {
    "collapsed": false
   },
   "outputs": [
    {
     "name": "stderr",
     "output_type": "stream",
     "text": [
      "WARNING: module AD should explicitly import == from Base\n"
     ]
    },
    {
     "ename": "LoadError",
     "evalue": "LoadError: syntax: extra token \"exp\" after end of expression\nwhile loading In[2], in expression starting on line 9",
     "output_type": "error",
     "traceback": [
      "LoadError: syntax: extra token \"exp\" after end of expression\nwhile loading In[2], in expression starting on line 9",
      ""
     ]
    }
   ],
   "source": [
    "#Incluimos el AutomDiff.jl de la Tarea4. De aqui importamos el modulo AD, en el cual se definen ya la suma, resta, \n",
    "#multiplicacion, division y potencias de duales. \n",
    "include(\"AutomDiff.jl\")\n",
    "import AD: Dual, xdual\n",
    "\n",
    "#Debemos importar definiciones adicionales de base.\n",
    "\n",
    "#Exponenciales\n",
    "import base exp\n",
    "\n",
    "#Logaritmos\n",
    "import base log\n",
    "\n",
    "#Funciones Trigonometricas\n",
    "import base: sin, cos, tan, cot, sec, csc, asin, acos, atan, acot, asec, acsc\n",
    "\n",
    "#Funciones Hiperbolicas\n",
    "import base: sinh, cosh, tanh, coth, sech, csch, asinh, acosh, atanh, acoth, asech, acsch\n",
    "\n"
   ]
  },
  {
   "cell_type": "code",
   "execution_count": 1,
   "metadata": {
    "collapsed": false
   },
   "outputs": [
    {
     "ename": "LoadError",
     "evalue": "LoadError: UndefVarError: xdual not defined\nwhile loading In[1], in expression starting on line 1",
     "output_type": "error",
     "traceback": [
      "LoadError: UndefVarError: xdual not defined\nwhile loading In[1], in expression starting on line 1",
      ""
     ]
    }
   ],
   "source": [
    "exp(xdual(1.0)^2).der"
   ]
  },
  {
   "cell_type": "markdown",
   "metadata": {},
   "source": [
    "## II.\n",
    "Prueben su implementación calculando la derivada de $f(x) = \\sin\\Big(x^3 - \\frac{2}{x^6}\\Big)$\n",
    "en $x_0 = 2$.\n",
    "\n",
    "Dibujen, para $x_0 \\in [1,5]$ la función $f'(x)$."
   ]
  },
  {
   "cell_type": "code",
   "execution_count": 5,
   "metadata": {
    "collapsed": true
   },
   "outputs": [],
   "source": [
    "#Derivada\n",
    "\n",
    "#Plot"
   ]
  },
  {
   "cell_type": "markdown",
   "metadata": {},
   "source": [
    "## III.\n",
    "Implementen el método de Newton para una función arbitraria $f(x)$ en una variable (la función `newton1D` debe tener un argumento que es una función) a fin de encontrar un cero de la función, i.e., $f(x^*)=0$. El método de Newton requiere la derivada evaluada en diversos puntos, cosa que obtendrán usando el módulo de derivación automática.\n",
    "\n",
    "- Obtengan, usando su función del método de Newton, las raices del polinomio de Wilkinson $W_{6}(x)$, usando como iterados iniciales $x_0=2.2$ y $x_0=2.45$.\n",
    "    \n",
    "- Hagan lo mismo que en el inciso anterior para $g(x) = x \\sin(2x)$, con $x_0=0.7$."
   ]
  },
  {
   "cell_type": "code",
   "execution_count": 6,
   "metadata": {
    "collapsed": true
   },
   "outputs": [],
   "source": [
    "#Metodo de Newton para f(x)\n",
    "\n",
    "#Raices del polinomio de Wilkinson\n",
    "\n",
    "#Mas raices del polinomio de Wilkinson"
   ]
  },
  {
   "cell_type": "markdown",
   "metadata": {},
   "source": [
    "## IV.\n",
    "¿Qué hacer si se requieren derivadas de orden superior, es decir, la segunda, tercera, etc, derivada? Argumenten.\n",
    "\n",
    "**NOTA:** Esta pregunta debe ser contestada pero **no** será considerada para aceptar la tarea; la idea es empezar a pensar en esto."
   ]
  },
  {
   "cell_type": "code",
   "execution_count": 7,
   "metadata": {
    "collapsed": true
   },
   "outputs": [],
   "source": [
    "#"
   ]
  }
 ],
 "metadata": {
  "kernelspec": {
   "display_name": "Julia 0.4.3",
   "language": "julia",
   "name": "julia-0.4"
  },
  "language_info": {
   "file_extension": ".jl",
   "mimetype": "application/julia",
   "name": "julia",
   "version": "0.4.3"
  }
 },
 "nbformat": 4,
 "nbformat_minor": 0
}
